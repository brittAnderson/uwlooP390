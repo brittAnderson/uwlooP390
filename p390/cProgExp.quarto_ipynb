{
  "cells": [
    {
      "cell_type": "markdown",
      "metadata": {},
      "source": [
        "# Programming Experiments\n",
        "\n",
        "One of the most common uses of computers in psychology is for the programming of experiments. Classic experiments often involve a combination of visual stimuli that the participant has to respond to in someway. Typical responses are often button presses or mouse clicks, though many other varieties of stimuli and reports are used. While many programming languages can be used for this task we will begin with one of the most popular, Python. And if time permits we can explore some examples with Javascript as the world of experimental psychology is increasingly complementing the usual lab based testing paradigm with online studies. \n",
        "\n",
        "## All-in-one options\n",
        "\n",
        "Excellent tools exist that provide turn-key solutions. A very popular one is [Psychopy](https://www.psychopy.org/). This package is available for the popular operating systems and gives a gui like builder that allows you to program visually. It offers the opportunity to output your experiment into a web friendly format that can integrate with an online hosting service for performing experiments. However, my experience is that while such tools make it easy to get started they don't help people develop the general skills that will transfer into programming that distinctive experiment that no one else has done. And the knowledge you gain is often interface specific. It is not general, and so your learning cannot transfer into writing R code or porting your experiment to MATLAB if that becomes the tool a collaborator wants to use. Even if this is the sort of tool you eventually settle on for the very reasonable reasons that your experimental needs are not complex and the quality of the implementation allows you to get work done more easily and on board new investigators more quickly, it will still make you better at planning and handling problems if you have a knowledge of what is going on under the hood.\n",
        "\n",
        "## Python\n",
        "\n",
        "The following examples focus on the sort of experiment where you want something to appear on the screen, and you want feedback from the participant. Current computer graphics don't work like they did twenty years ago when we all had heavy CRTs on our desks, but one can still deploy some of the intuitions of that era.\n",
        "\n",
        "The monitor is a screen and it is displaying a picture. In the background what is to be shown next is in preparation and at some point what is on the display now will be replaced by the next collection in the queue. Even though we no longer literally raster the display from top to bottom and side to side you can still usefully think in terms of *frames*. Thus, almost all your experiments will need the mechanics of a window the participant views and in which you can write things you want them to see. \n",
        "\n",
        "### Pygame\n",
        "For practice I will use the [pygame](https://www.pygame.org) python library. There are a large number of help and tutorials for this well established library that has been in use for decades. It is well vetted and documented, and relies on a simple direct library for video manipulations. \n",
        "\n",
        "#### Some Links for Getting Started with Pygame\n",
        "1. The pygame [getting started wiki](https://www.pygame.org/wiki/GettingStarted).\n",
        "   Most of my examples will draw from this site. \n",
        "2. Real python [pygame tutorial](https://realpython.com/pygame-a-primer/)\n",
        "3. [Game Development Academy](https://gamedevacademy.org/pygame-code-tutorial-complete-guide/)\n",
        "\n",
        "#### Installation\n",
        "A virtual environment is recommended, but not necessary. If you are using a venv activate it first.\n",
        "\n",
        "Then \n",
        "\n",
        "```python\n",
        "pip install pygame # <1>\n",
        "\n",
        "python -m pygame.examples.aliens # <2>\n",
        "```\n",
        "1. This line installs the library.\n",
        "2. This launches a test game. If you see the game, you have installed pygame. I find this game plays a little fast on modern hardware.\n"
      ],
      "id": "3868b6a9"
    },
    {
      "cell_type": "code",
      "metadata": {},
      "source": [
        "#| eval: false\n",
        "\n",
        "mywindow = pygame.display.set_mode([800,800])\n",
        "running = True\n",
        "while running:\n",
        "    for event in pygame.event.get():\n",
        "        if event.type == pygame.QUIT:\n",
        "            running = False\n",
        "    mywindow.fill((128,15,15))\n",
        "    pygame.display.flip()\n",
        "        \n",
        "pygame.quit()"
      ],
      "id": "b612e642",
      "execution_count": null,
      "outputs": []
    },
    {
      "cell_type": "markdown",
      "metadata": {},
      "source": [
        "## Javascript \n",
        "WIP"
      ],
      "id": "8b5ec58f"
    }
  ],
  "metadata": {
    "kernelspec": {
      "display_name": "Python 3",
      "language": "python",
      "name": "python3"
    }
  },
  "nbformat": 4,
  "nbformat_minor": 5
}